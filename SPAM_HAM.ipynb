{
  "nbformat": 4,
  "nbformat_minor": 0,
  "metadata": {
    "colab": {
      "name": "SPAM-HAM.ipynb",
      "provenance": [],
      "collapsed_sections": [],
      "authorship_tag": "ABX9TyPM6Rcp/ebGbQD6jzPKJ69j",
      "include_colab_link": true
    },
    "kernelspec": {
      "name": "python3",
      "display_name": "Python 3"
    }
  },
  "cells": [
    {
      "cell_type": "markdown",
      "metadata": {
        "id": "view-in-github",
        "colab_type": "text"
      },
      "source": [
        "<a href=\"https://colab.research.google.com/github/sgajendra/NLP-Repository/blob/main/SPAM_HAM.ipynb\" target=\"_parent\"><img src=\"https://colab.research.google.com/assets/colab-badge.svg\" alt=\"Open In Colab\"/></a>"
      ]
    },
    {
      "cell_type": "code",
      "metadata": {
        "id": "dpFjCUMiZ3Ki"
      },
      "source": [
        "%tensorflow_version 2.x\r\n",
        "import tensorflow as tf\r\n",
        "import os\r\n",
        "import io\r\n",
        "import pandas as pd\r\n",
        "tf.__version__\r\n",
        "\r\n",
        "import re\r\n",
        "import keras"
      ],
      "execution_count": null,
      "outputs": []
    },
    {
      "cell_type": "code",
      "metadata": {
        "colab": {
          "base_uri": "https://localhost:8080/"
        },
        "id": "BeXiSl2wZ4gX",
        "outputId": "7fbe6b79-f7bf-4583-9859-35bc14b73f3d"
      },
      "source": [
        "# Download the zip file\r\n",
        "path_to_zip = tf.keras.utils.get_file(\"smsspamcollection.zip\",\r\n",
        "origin=\"https://archive.ics.uci.edu/ml/machine-learning-databases/00228/smsspamcollection.zip\",\r\n",
        "                  extract=True)\r\n",
        "# Unzip the file into a folder\r\n",
        "!unzip $path_to_zip -d data"
      ],
      "execution_count": null,
      "outputs": [
        {
          "output_type": "stream",
          "text": [
            "Archive:  /root/.keras/datasets/smsspamcollection.zip\n",
            "replace data/SMSSpamCollection? [y]es, [n]o, [A]ll, [N]one, [r]ename: n\n",
            "replace data/readme? [y]es, [n]o, [A]ll, [N]one, [r]ename: n\n"
          ],
          "name": "stdout"
        }
      ]
    },
    {
      "cell_type": "code",
      "metadata": {
        "id": "CcoQQAoXaHwk"
      },
      "source": [
        "# Let's see if we read the data correctly\r\n",
        "lines = io.open('data/SMSSpamCollection').read().strip().split('\\n')"
      ],
      "execution_count": null,
      "outputs": []
    },
    {
      "cell_type": "code",
      "metadata": {
        "colab": {
          "base_uri": "https://localhost:8080/",
          "height": 35
        },
        "id": "Ct7jtcBaacZk",
        "outputId": "073990a5-37ed-4ac6-fe9d-ce0a4de8f344"
      },
      "source": [
        "lines[0]"
      ],
      "execution_count": null,
      "outputs": [
        {
          "output_type": "execute_result",
          "data": {
            "application/vnd.google.colaboratory.intrinsic+json": {
              "type": "string"
            },
            "text/plain": [
              "'ham\\tGo until jurong point, crazy.. Available only in bugis n great world la e buffet... Cine there got amore wat...'"
            ]
          },
          "metadata": {
            "tags": []
          },
          "execution_count": 104
        }
      ]
    },
    {
      "cell_type": "code",
      "metadata": {
        "id": "Ae-IKGYHauF7"
      },
      "source": [
        "label_data = []\r\n",
        "sentence_data = []\r\n",
        "for line in lines:\r\n",
        "  label, sent = line.split('\\t')\r\n",
        "  if label.strip()=='spam':\r\n",
        "    label_data.append('1')\r\n",
        "    sentence_data.append(sent.strip())\r\n",
        "  else:\r\n",
        "    label_data.append('0')\r\n",
        "    sentence_data.append(sent.strip())"
      ],
      "execution_count": null,
      "outputs": []
    },
    {
      "cell_type": "code",
      "metadata": {
        "id": "Ls1eiwXkcrVy"
      },
      "source": [
        "data = pd.DataFrame({'label': label_data,\r\n",
        "                     'text': sentence_data,\r\n",
        "                     })"
      ],
      "execution_count": null,
      "outputs": []
    },
    {
      "cell_type": "code",
      "metadata": {
        "colab": {
          "base_uri": "https://localhost:8080/",
          "height": 195
        },
        "id": "YfoCIjKsdBvu",
        "outputId": "b19d7685-48b9-4990-815b-d3b29555c6ab"
      },
      "source": [
        "data.head()"
      ],
      "execution_count": null,
      "outputs": [
        {
          "output_type": "execute_result",
          "data": {
            "text/html": [
              "<div>\n",
              "<style scoped>\n",
              "    .dataframe tbody tr th:only-of-type {\n",
              "        vertical-align: middle;\n",
              "    }\n",
              "\n",
              "    .dataframe tbody tr th {\n",
              "        vertical-align: top;\n",
              "    }\n",
              "\n",
              "    .dataframe thead th {\n",
              "        text-align: right;\n",
              "    }\n",
              "</style>\n",
              "<table border=\"1\" class=\"dataframe\">\n",
              "  <thead>\n",
              "    <tr style=\"text-align: right;\">\n",
              "      <th></th>\n",
              "      <th>label</th>\n",
              "      <th>text</th>\n",
              "    </tr>\n",
              "  </thead>\n",
              "  <tbody>\n",
              "    <tr>\n",
              "      <th>0</th>\n",
              "      <td>0</td>\n",
              "      <td>Go until jurong point, crazy.. Available only ...</td>\n",
              "    </tr>\n",
              "    <tr>\n",
              "      <th>1</th>\n",
              "      <td>0</td>\n",
              "      <td>Ok lar... Joking wif u oni...</td>\n",
              "    </tr>\n",
              "    <tr>\n",
              "      <th>2</th>\n",
              "      <td>1</td>\n",
              "      <td>Free entry in 2 a wkly comp to win FA Cup fina...</td>\n",
              "    </tr>\n",
              "    <tr>\n",
              "      <th>3</th>\n",
              "      <td>0</td>\n",
              "      <td>U dun say so early hor... U c already then say...</td>\n",
              "    </tr>\n",
              "    <tr>\n",
              "      <th>4</th>\n",
              "      <td>0</td>\n",
              "      <td>Nah I don't think he goes to usf, he lives aro...</td>\n",
              "    </tr>\n",
              "  </tbody>\n",
              "</table>\n",
              "</div>"
            ],
            "text/plain": [
              "  label                                               text\n",
              "0     0  Go until jurong point, crazy.. Available only ...\n",
              "1     0                      Ok lar... Joking wif u oni...\n",
              "2     1  Free entry in 2 a wkly comp to win FA Cup fina...\n",
              "3     0  U dun say so early hor... U c already then say...\n",
              "4     0  Nah I don't think he goes to usf, he lives aro..."
            ]
          },
          "metadata": {
            "tags": []
          },
          "execution_count": 107
        }
      ]
    },
    {
      "cell_type": "code",
      "metadata": {
        "colab": {
          "base_uri": "https://localhost:8080/",
          "height": 35
        },
        "id": "0g7eJjb8dUVG",
        "outputId": "9265499d-3212-4b48-bc71-04d753997179"
      },
      "source": [
        "data.text[0]"
      ],
      "execution_count": null,
      "outputs": [
        {
          "output_type": "execute_result",
          "data": {
            "application/vnd.google.colaboratory.intrinsic+json": {
              "type": "string"
            },
            "text/plain": [
              "'Go until jurong point, crazy.. Available only in bugis n great world la e buffet... Cine there got amore wat...'"
            ]
          },
          "metadata": {
            "tags": []
          },
          "execution_count": 108
        }
      ]
    },
    {
      "cell_type": "code",
      "metadata": {
        "id": "z7o3xUL9eUGc"
      },
      "source": [
        "def len_text(text):\r\n",
        "  return len(text)\r\n",
        "\r\n",
        "def num_capital(text):\r\n",
        "  _, count = re.subn('[A-Z]', '', text)\r\n",
        "  return count\r\n",
        "\r\n",
        "def num_pantuation(text):\r\n",
        "  _, count = re.subn('\\W', '', text)\r\n",
        "  return count"
      ],
      "execution_count": null,
      "outputs": []
    },
    {
      "cell_type": "code",
      "metadata": {
        "id": "zNES5V9zf7GK"
      },
      "source": [
        "data['length'] = data['text'].apply(lambda x: len_text(x))\r\n",
        "data['capitals'] = data['text'].apply(lambda x: num_capital(x))\r\n",
        "data['pantuation'] = data['text'].apply(lambda x: num_pantuation(x))\r\n",
        "data['label'] = data['label'].apply(lambda x: int(x))"
      ],
      "execution_count": null,
      "outputs": []
    },
    {
      "cell_type": "code",
      "metadata": {
        "colab": {
          "base_uri": "https://localhost:8080/",
          "height": 195
        },
        "id": "5RYcZ5RzgpJY",
        "outputId": "aa999ecd-4faa-4499-9fc9-21ab0c6fc852"
      },
      "source": [
        "data.head()"
      ],
      "execution_count": null,
      "outputs": [
        {
          "output_type": "execute_result",
          "data": {
            "text/html": [
              "<div>\n",
              "<style scoped>\n",
              "    .dataframe tbody tr th:only-of-type {\n",
              "        vertical-align: middle;\n",
              "    }\n",
              "\n",
              "    .dataframe tbody tr th {\n",
              "        vertical-align: top;\n",
              "    }\n",
              "\n",
              "    .dataframe thead th {\n",
              "        text-align: right;\n",
              "    }\n",
              "</style>\n",
              "<table border=\"1\" class=\"dataframe\">\n",
              "  <thead>\n",
              "    <tr style=\"text-align: right;\">\n",
              "      <th></th>\n",
              "      <th>label</th>\n",
              "      <th>text</th>\n",
              "      <th>length</th>\n",
              "      <th>capitals</th>\n",
              "      <th>pantuation</th>\n",
              "    </tr>\n",
              "  </thead>\n",
              "  <tbody>\n",
              "    <tr>\n",
              "      <th>0</th>\n",
              "      <td>0</td>\n",
              "      <td>Go until jurong point, crazy.. Available only ...</td>\n",
              "      <td>111</td>\n",
              "      <td>3</td>\n",
              "      <td>28</td>\n",
              "    </tr>\n",
              "    <tr>\n",
              "      <th>1</th>\n",
              "      <td>0</td>\n",
              "      <td>Ok lar... Joking wif u oni...</td>\n",
              "      <td>29</td>\n",
              "      <td>2</td>\n",
              "      <td>11</td>\n",
              "    </tr>\n",
              "    <tr>\n",
              "      <th>2</th>\n",
              "      <td>1</td>\n",
              "      <td>Free entry in 2 a wkly comp to win FA Cup fina...</td>\n",
              "      <td>155</td>\n",
              "      <td>10</td>\n",
              "      <td>33</td>\n",
              "    </tr>\n",
              "    <tr>\n",
              "      <th>3</th>\n",
              "      <td>0</td>\n",
              "      <td>U dun say so early hor... U c already then say...</td>\n",
              "      <td>49</td>\n",
              "      <td>2</td>\n",
              "      <td>16</td>\n",
              "    </tr>\n",
              "    <tr>\n",
              "      <th>4</th>\n",
              "      <td>0</td>\n",
              "      <td>Nah I don't think he goes to usf, he lives aro...</td>\n",
              "      <td>61</td>\n",
              "      <td>2</td>\n",
              "      <td>14</td>\n",
              "    </tr>\n",
              "  </tbody>\n",
              "</table>\n",
              "</div>"
            ],
            "text/plain": [
              "   label  ... pantuation\n",
              "0      0  ...         28\n",
              "1      0  ...         11\n",
              "2      1  ...         33\n",
              "3      0  ...         16\n",
              "4      0  ...         14\n",
              "\n",
              "[5 rows x 5 columns]"
            ]
          },
          "metadata": {
            "tags": []
          },
          "execution_count": 111
        }
      ]
    },
    {
      "cell_type": "code",
      "metadata": {
        "colab": {
          "base_uri": "https://localhost:8080/"
        },
        "id": "lhkG0iSzj-qN",
        "outputId": "53cdeef8-7cc7-40ab-cfd8-f19ca670c8a8"
      },
      "source": [
        "data.dtypes"
      ],
      "execution_count": null,
      "outputs": [
        {
          "output_type": "execute_result",
          "data": {
            "text/plain": [
              "label          int64\n",
              "text          object\n",
              "length         int64\n",
              "capitals       int64\n",
              "pantuation     int64\n",
              "dtype: object"
            ]
          },
          "metadata": {
            "tags": []
          },
          "execution_count": 112
        }
      ]
    },
    {
      "cell_type": "code",
      "metadata": {
        "id": "4coNggAQgv71"
      },
      "source": [
        "train=data.sample(frac=0.8,random_state=42)\r\n",
        "test=data.drop(train.index)\r\n",
        "x_train = train[['length', 'capitals', 'pantuation']]\r\n",
        "y_train = train[['label']]\r\n",
        "x_test = test[['length', 'capitals', 'pantuation']]\r\n",
        "y_test = test[['label']]"
      ],
      "execution_count": null,
      "outputs": []
    },
    {
      "cell_type": "code",
      "metadata": {
        "id": "VEDKbiuThF_l"
      },
      "source": [
        "# Basic 1-layer neural network model for evaluation\r\n",
        "def make_model(input_dims=3, num_units=12):\r\n",
        "  model = tf.keras.Sequential()\r\n",
        "  # Adds a densely-connected layer with 12 units to the model:\r\n",
        "  model.add(tf.keras.layers.Dense(num_units, \r\n",
        "                                  input_dim=input_dims,\r\n",
        "                                  activation='relu'))\r\n",
        "  # Add a sigmoid layer with a binary output unit:\r\n",
        "  model.add(tf.keras.layers.Dense(1, activation='sigmoid'))\r\n",
        "  model.compile(loss='binary_crossentropy', optimizer='adam', \r\n",
        "                metrics=['accuracy'])\r\n",
        "  return model"
      ],
      "execution_count": null,
      "outputs": []
    },
    {
      "cell_type": "markdown",
      "metadata": {
        "id": "1LR4TiOFjaGn"
      },
      "source": [
        ""
      ]
    },
    {
      "cell_type": "markdown",
      "metadata": {
        "id": "tqGI-2kbja40"
      },
      "source": [
        ""
      ]
    },
    {
      "cell_type": "code",
      "metadata": {
        "colab": {
          "base_uri": "https://localhost:8080/"
        },
        "id": "JtdmHmVHhtsb",
        "outputId": "ac3f53a7-3c53-475a-ec62-89322f4d6454"
      },
      "source": [
        "model = make_model()\r\n",
        "model.fit(x_train, y_train, epochs=10, batch_size=10)"
      ],
      "execution_count": null,
      "outputs": [
        {
          "output_type": "stream",
          "text": [
            "Epoch 1/10\n",
            "446/446 [==============================] - 1s 1ms/step - loss: 8.2610 - accuracy: 0.5057\n",
            "Epoch 2/10\n",
            "446/446 [==============================] - 0s 1ms/step - loss: 0.3459 - accuracy: 0.9118\n",
            "Epoch 3/10\n",
            "446/446 [==============================] - 1s 1ms/step - loss: 0.2992 - accuracy: 0.9107\n",
            "Epoch 4/10\n",
            "446/446 [==============================] - 1s 1ms/step - loss: 0.2460 - accuracy: 0.9255\n",
            "Epoch 5/10\n",
            "446/446 [==============================] - 1s 1ms/step - loss: 0.2368 - accuracy: 0.9266\n",
            "Epoch 6/10\n",
            "446/446 [==============================] - 1s 1ms/step - loss: 0.2091 - accuracy: 0.9343\n",
            "Epoch 7/10\n",
            "446/446 [==============================] - 1s 1ms/step - loss: 0.2213 - accuracy: 0.9273\n",
            "Epoch 8/10\n",
            "446/446 [==============================] - 1s 1ms/step - loss: 0.2192 - accuracy: 0.9261\n",
            "Epoch 9/10\n",
            "446/446 [==============================] - 1s 1ms/step - loss: 0.2137 - accuracy: 0.9261\n",
            "Epoch 10/10\n",
            "446/446 [==============================] - 0s 1ms/step - loss: 0.2093 - accuracy: 0.9302\n"
          ],
          "name": "stdout"
        },
        {
          "output_type": "execute_result",
          "data": {
            "text/plain": [
              "<tensorflow.python.keras.callbacks.History at 0x7f17f1e109d0>"
            ]
          },
          "metadata": {
            "tags": []
          },
          "execution_count": 115
        }
      ]
    },
    {
      "cell_type": "code",
      "metadata": {
        "colab": {
          "base_uri": "https://localhost:8080/"
        },
        "id": "PU3YvwkIhwID",
        "outputId": "cc4d626d-ec1b-4e1c-dafa-4b65932ead9e"
      },
      "source": [
        "model.evaluate(x_test, y_test)"
      ],
      "execution_count": null,
      "outputs": [
        {
          "output_type": "stream",
          "text": [
            "35/35 [==============================] - 0s 1ms/step - loss: 0.2086 - accuracy: 0.9229\n"
          ],
          "name": "stdout"
        },
        {
          "output_type": "execute_result",
          "data": {
            "text/plain": [
              "[0.2085690200328827, 0.9228699803352356]"
            ]
          },
          "metadata": {
            "tags": []
          },
          "execution_count": 116
        }
      ]
    },
    {
      "cell_type": "code",
      "metadata": {
        "id": "87GcY2JUlMD8"
      },
      "source": [
        "import spacy\r\n",
        "import en_core_web_sm\r\n",
        "\r\n",
        "nlp = en_core_web_sm.load()\r\n",
        "\r\n",
        "doc = nlp(''.join(str(data.text.to_list()))) "
      ],
      "execution_count": null,
      "outputs": []
    },
    {
      "cell_type": "code",
      "metadata": {
        "id": "1rIkEimDn6EW"
      },
      "source": [
        "#pip install stanfordnlp"
      ],
      "execution_count": null,
      "outputs": []
    },
    {
      "cell_type": "code",
      "metadata": {
        "colab": {
          "base_uri": "https://localhost:8080/"
        },
        "id": "HKHg0jYdoTGP",
        "outputId": "a15cc5fc-5cda-45ff-8e9c-0f7968c23f02"
      },
      "source": [
        "nlp.pipe_names"
      ],
      "execution_count": null,
      "outputs": [
        {
          "output_type": "execute_result",
          "data": {
            "text/plain": [
              "['tagger', 'parser', 'ner']"
            ]
          },
          "metadata": {
            "tags": []
          },
          "execution_count": 119
        }
      ]
    },
    {
      "cell_type": "code",
      "metadata": {
        "colab": {
          "base_uri": "https://localhost:8080/",
          "height": 195
        },
        "id": "M3yxf4aFrlpV",
        "outputId": "fc22b416-2cea-4e0c-c025-886fbe98bb78"
      },
      "source": [
        "data.head()"
      ],
      "execution_count": null,
      "outputs": [
        {
          "output_type": "execute_result",
          "data": {
            "text/html": [
              "<div>\n",
              "<style scoped>\n",
              "    .dataframe tbody tr th:only-of-type {\n",
              "        vertical-align: middle;\n",
              "    }\n",
              "\n",
              "    .dataframe tbody tr th {\n",
              "        vertical-align: top;\n",
              "    }\n",
              "\n",
              "    .dataframe thead th {\n",
              "        text-align: right;\n",
              "    }\n",
              "</style>\n",
              "<table border=\"1\" class=\"dataframe\">\n",
              "  <thead>\n",
              "    <tr style=\"text-align: right;\">\n",
              "      <th></th>\n",
              "      <th>label</th>\n",
              "      <th>text</th>\n",
              "      <th>length</th>\n",
              "      <th>capitals</th>\n",
              "      <th>pantuation</th>\n",
              "      <th>preprocess</th>\n",
              "    </tr>\n",
              "  </thead>\n",
              "  <tbody>\n",
              "    <tr>\n",
              "      <th>0</th>\n",
              "      <td>0</td>\n",
              "      <td>Go until jurong point, crazy.. Available only ...</td>\n",
              "      <td>111</td>\n",
              "      <td>3</td>\n",
              "      <td>28</td>\n",
              "      <td>jurong point crazi avail bugi great world buff...</td>\n",
              "    </tr>\n",
              "    <tr>\n",
              "      <th>1</th>\n",
              "      <td>0</td>\n",
              "      <td>Ok lar... Joking wif u oni...</td>\n",
              "      <td>29</td>\n",
              "      <td>2</td>\n",
              "      <td>11</td>\n",
              "      <td>joke</td>\n",
              "    </tr>\n",
              "    <tr>\n",
              "      <th>2</th>\n",
              "      <td>1</td>\n",
              "      <td>Free entry in 2 a wkly comp to win FA Cup fina...</td>\n",
              "      <td>155</td>\n",
              "      <td>10</td>\n",
              "      <td>33</td>\n",
              "      <td>free entri wkli comp final text receiv entri q...</td>\n",
              "    </tr>\n",
              "    <tr>\n",
              "      <th>3</th>\n",
              "      <td>0</td>\n",
              "      <td>U dun say so early hor... U c already then say...</td>\n",
              "      <td>49</td>\n",
              "      <td>2</td>\n",
              "      <td>16</td>\n",
              "      <td>earli alreadi</td>\n",
              "    </tr>\n",
              "    <tr>\n",
              "      <th>4</th>\n",
              "      <td>0</td>\n",
              "      <td>Nah I don't think he goes to usf, he lives aro...</td>\n",
              "      <td>61</td>\n",
              "      <td>2</td>\n",
              "      <td>14</td>\n",
              "      <td>think live around though</td>\n",
              "    </tr>\n",
              "  </tbody>\n",
              "</table>\n",
              "</div>"
            ],
            "text/plain": [
              "   label  ...                                         preprocess\n",
              "0      0  ...  jurong point crazi avail bugi great world buff...\n",
              "1      0  ...                                               joke\n",
              "2      1  ...  free entri wkli comp final text receiv entri q...\n",
              "3      0  ...                                      earli alreadi\n",
              "4      0  ...                           think live around though\n",
              "\n",
              "[5 rows x 6 columns]"
            ]
          },
          "metadata": {
            "tags": []
          },
          "execution_count": 191
        }
      ]
    },
    {
      "cell_type": "code",
      "metadata": {
        "colab": {
          "base_uri": "https://localhost:8080/"
        },
        "id": "Vu6nflilIkks",
        "outputId": "8a50915c-523c-4ea8-8f99-2546325a446a"
      },
      "source": [
        "import nltk\r\n",
        "nltk.download('stopwords')\r\n",
        "import nltk\r\n",
        "nltk.download('wordnet')"
      ],
      "execution_count": null,
      "outputs": [
        {
          "output_type": "stream",
          "text": [
            "[nltk_data] Downloading package stopwords to /root/nltk_data...\n",
            "[nltk_data]   Package stopwords is already up-to-date!\n",
            "[nltk_data] Downloading package wordnet to /root/nltk_data...\n",
            "[nltk_data]   Unzipping corpora/wordnet.zip.\n"
          ],
          "name": "stdout"
        },
        {
          "output_type": "execute_result",
          "data": {
            "text/plain": [
              "True"
            ]
          },
          "metadata": {
            "tags": []
          },
          "execution_count": 165
        }
      ]
    },
    {
      "cell_type": "code",
      "metadata": {
        "id": "Wew9YV4eIYXS"
      },
      "source": [
        "from nltk.corpus import stopwords\r\n",
        "stop = stopwords.words('english')\r\n",
        "from nltk.stem import PorterStemmer\r\n",
        "from nltk.stem import WordNetLemmatizer \r\n",
        "st = PorterStemmer()\r\n",
        "lemmatizer = WordNetLemmatizer() "
      ],
      "execution_count": null,
      "outputs": []
    },
    {
      "cell_type": "code",
      "metadata": {
        "id": "s05k1jrsJ7AE"
      },
      "source": [
        "data['preprocess'] = data['text']"
      ],
      "execution_count": null,
      "outputs": []
    },
    {
      "cell_type": "code",
      "metadata": {
        "id": "_grs90Jk3Ixl"
      },
      "source": [
        "data['preprocess'] = data['preprocess'].apply(lambda x: ' '.join(i.lower() for i in x.split()))\r\n",
        "data['preprocess'] = data['preprocess'].str.replace('[^\\w\\s]',\" \")\r\n",
        "data['preprocess'] = data['preprocess'].apply(lambda x: ' '.join(i for i in x.split() if i not in stop))\r\n",
        "data['preprocess'] = data['preprocess'].apply(lambda x: ' '.join([st.stem(word) for word in x.split()]))\r\n",
        "data['preprocess'] = data['preprocess'].apply(lambda x: ' '.join([lemmatizer.lemmatize(word) for word in x.split()]))\r\n",
        "data['preprocess'] = data['preprocess'].str.replace('\\d',\" \")\r\n",
        "data['preprocess'] = data['preprocess'].apply(lambda x: ' '.join([word for word in x.split() if len(word) > 3]))\r\n"
      ],
      "execution_count": null,
      "outputs": []
    },
    {
      "cell_type": "code",
      "metadata": {
        "id": "GC_x2jQiO-_g"
      },
      "source": [
        ""
      ],
      "execution_count": null,
      "outputs": []
    },
    {
      "cell_type": "code",
      "metadata": {
        "id": "ptwU6jtk8aJ4"
      },
      "source": [
        "from sklearn.feature_extraction.text import TfidfVectorizer"
      ],
      "execution_count": null,
      "outputs": []
    },
    {
      "cell_type": "code",
      "metadata": {
        "id": "GviZA2oQ8hDO",
        "colab": {
          "base_uri": "https://localhost:8080/",
          "height": 35
        },
        "outputId": "524c78f9-25cf-4ee2-df9e-0690cf0c48f3"
      },
      "source": [
        "data['preprocess'][0]"
      ],
      "execution_count": null,
      "outputs": [
        {
          "output_type": "execute_result",
          "data": {
            "application/vnd.google.colaboratory.intrinsic+json": {
              "type": "string"
            },
            "text/plain": [
              "'Go until jurong point, crazy.. Available only in bugis n great world la e buffet... Cine there got amore wat...'"
            ]
          },
          "metadata": {
            "tags": []
          },
          "execution_count": 125
        }
      ]
    },
    {
      "cell_type": "code",
      "metadata": {
        "id": "bluhqz1S8nDl"
      },
      "source": [
        ""
      ],
      "execution_count": null,
      "outputs": []
    }
  ]
}